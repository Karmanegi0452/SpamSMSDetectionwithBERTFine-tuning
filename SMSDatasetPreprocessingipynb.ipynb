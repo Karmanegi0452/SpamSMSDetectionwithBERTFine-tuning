{
  "nbformat": 4,
  "nbformat_minor": 0,
  "metadata": {
    "colab": {
      "provenance": []
    },
    "kernelspec": {
      "name": "python3",
      "display_name": "Python 3"
    },
    "language_info": {
      "name": "python"
    }
  },
  "cells": [
    {
      "cell_type": "code",
      "source": [],
      "metadata": {
        "id": "V_OyIF8sS_7z"
      },
      "execution_count": null,
      "outputs": []
    },
    {
      "cell_type": "code",
      "execution_count": 14,
      "metadata": {
        "id": "0hFIGS9BRsa2"
      },
      "outputs": [],
      "source": [
        "import pandas as pd"
      ]
    },
    {
      "cell_type": "code",
      "source": [
        "df = pd.read_csv(\"/content/drive/MyDrive/spam.csv\", encoding='latin-1')\n",
        "\n",
        "# Create subsets for positive and negative examples\n",
        "ham_subset = df[df['v1'] == 'ham']\n",
        "spam_subset = df[df['v1'] == 'spam']\n",
        "\n",
        "# Save the subsets to separate CSV files\n",
        "ham_subset.to_csv('ham_samples.csv', index=False)\n",
        "spam_subset.to_csv('spam_samples.csv', index=False)\n",
        "\n"
      ],
      "metadata": {
        "id": "Lii5DlLJR_Zt"
      },
      "execution_count": 15,
      "outputs": []
    },
    {
      "cell_type": "code",
      "source": [
        "import os\n",
        "\n",
        "# Get the current working directory\n",
        "current_directory = os.getcwd()\n",
        "\n",
        "# List the files in the current directory\n",
        "files_in_directory = os.listdir(current_directory)\n",
        "\n",
        "# You should see the resulting CSV files in the list\n",
        "print(files_in_directory)"
      ],
      "metadata": {
        "colab": {
          "base_uri": "https://localhost:8080/"
        },
        "id": "q6E0RIVRXtmX",
        "outputId": "19b10421-e45b-4680-ec5b-ea08cc7e7955"
      },
      "execution_count": 16,
      "outputs": [
        {
          "output_type": "stream",
          "name": "stdout",
          "text": [
            "['.config', 'ham_samples.csv', 'drive', 'spam_samples.csv', 'sample_data']\n"
          ]
        }
      ]
    }
  ]
}